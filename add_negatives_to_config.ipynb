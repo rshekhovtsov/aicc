{
 "cells": [
  {
   "cell_type": "markdown",
   "metadata": {},
   "source": [
    "Ноутбук для добавления негативных примеров в конфиг"
   ]
  },
  {
   "cell_type": "code",
   "execution_count": 1,
   "metadata": {
    "collapsed": true
   },
   "outputs": [],
   "source": [
    "import os\n",
    "import pandas as pd\n",
    "import numpy as np\n",
    "import json \n",
    "import math\n",
    "import string\n",
    "import re\n",
    "from transliterate import translit, get_available_language_codes\n",
    "\n",
    "from sklearn.model_selection import train_test_split\n",
    "\n",
    "pd.options.display.max_colwidth=100"
   ]
  },
  {
   "cell_type": "code",
   "execution_count": 2,
   "metadata": {},
   "outputs": [],
   "source": [
    "RND_SEED = 315\n",
    "\n",
    "input_dir = 'input'\n",
    "output_dir = 'output'\n",
    "input_faq_dir = os.path.join(input_dir, 'faq')\n",
    "output_faq_dir = os.path.join(output_dir, 'faq')\n",
    "faq_answers_fname = os.path.join(output_dir, 'faq_answers.json')\n",
    "\n",
    "negatives_dir = 'fp_fn'\n",
    "negatives_fname = os.path.join(negatives_dir, 'fp_.xlsx')"
   ]
  },
  {
   "cell_type": "code",
   "execution_count": 3,
   "metadata": {
    "collapsed": true
   },
   "outputs": [],
   "source": [
    "for f in os.listdir(output_faq_dir):\n",
    "    os.remove(os.path.join(output_faq_dir, f))"
   ]
  },
  {
   "cell_type": "markdown",
   "metadata": {},
   "source": [
    "Чтение исходных данных"
   ]
  },
  {
   "cell_type": "code",
   "execution_count": 4,
   "metadata": {},
   "outputs": [
    {
     "data": {
      "text/html": [
       "<div>\n",
       "<style scoped>\n",
       "    .dataframe tbody tr th:only-of-type {\n",
       "        vertical-align: middle;\n",
       "    }\n",
       "\n",
       "    .dataframe tbody tr th {\n",
       "        vertical-align: top;\n",
       "    }\n",
       "\n",
       "    .dataframe thead th {\n",
       "        text-align: right;\n",
       "    }\n",
       "</style>\n",
       "<table border=\"1\" class=\"dataframe\">\n",
       "  <thead>\n",
       "    <tr style=\"text-align: right;\">\n",
       "      <th></th>\n",
       "      <th>dialog_id</th>\n",
       "      <th>original_text</th>\n",
       "      <th>master_question</th>\n",
       "      <th>mq_id</th>\n",
       "      <th>real_mq_id</th>\n",
       "      <th>distance</th>\n",
       "    </tr>\n",
       "  </thead>\n",
       "  <tbody>\n",
       "    <tr>\n",
       "      <th>180</th>\n",
       "      <td>9268</td>\n",
       "      <td>доброго вечера)</td>\n",
       "      <td>Здравствуйте</td>\n",
       "      <td>1011</td>\n",
       "      <td>2002</td>\n",
       "      <td>0.000000e+00</td>\n",
       "    </tr>\n",
       "    <tr>\n",
       "      <th>2013</th>\n",
       "      <td>9358</td>\n",
       "      <td>здравствуйте,как мне привязать карту к другому номеру телефона</td>\n",
       "      <td>Как изменить номер телефона</td>\n",
       "      <td>1013</td>\n",
       "      <td>2002</td>\n",
       "      <td>6.342029e-09</td>\n",
       "    </tr>\n",
       "    <tr>\n",
       "      <th>5178</th>\n",
       "      <td>9431</td>\n",
       "      <td>как узнать баланс карты по смс ?</td>\n",
       "      <td>Как узнать баланс карты по смс</td>\n",
       "      <td>1039</td>\n",
       "      <td>2002</td>\n",
       "      <td>8.878841e-09</td>\n",
       "    </tr>\n",
       "  </tbody>\n",
       "</table>\n",
       "</div>"
      ],
      "text/plain": [
       "      dialog_id  \\\n",
       "180        9268   \n",
       "2013       9358   \n",
       "5178       9431   \n",
       "\n",
       "                                                       original_text  \\\n",
       "180                                                  доброго вечера)   \n",
       "2013  здравствуйте,как мне привязать карту к другому номеру телефона   \n",
       "5178                                как узнать баланс карты по смс ?   \n",
       "\n",
       "                     master_question  mq_id  real_mq_id      distance  \n",
       "180                     Здравствуйте   1011        2002  0.000000e+00  \n",
       "2013     Как изменить номер телефона   1013        2002  6.342029e-09  \n",
       "5178  Как узнать баланс карты по смс   1039        2002  8.878841e-09  "
      ]
     },
     "execution_count": 4,
     "metadata": {},
     "output_type": "execute_result"
    }
   ],
   "source": [
    "negatives = pd.read_excel(negatives_fname)\n",
    "negatives.head()"
   ]
  },
  {
   "cell_type": "code",
   "execution_count": 5,
   "metadata": {},
   "outputs": [
    {
     "data": {
      "text/html": [
       "<div>\n",
       "<style scoped>\n",
       "    .dataframe tbody tr th:only-of-type {\n",
       "        vertical-align: middle;\n",
       "    }\n",
       "\n",
       "    .dataframe tbody tr th {\n",
       "        vertical-align: top;\n",
       "    }\n",
       "\n",
       "    .dataframe thead th {\n",
       "        text-align: right;\n",
       "    }\n",
       "</style>\n",
       "<table border=\"1\" class=\"dataframe\">\n",
       "  <thead>\n",
       "    <tr style=\"text-align: right;\">\n",
       "      <th></th>\n",
       "      <th>180</th>\n",
       "    </tr>\n",
       "  </thead>\n",
       "  <tbody>\n",
       "    <tr>\n",
       "      <th>dialog_id</th>\n",
       "      <td>9268</td>\n",
       "    </tr>\n",
       "    <tr>\n",
       "      <th>original_text</th>\n",
       "      <td>доброго вечера)</td>\n",
       "    </tr>\n",
       "    <tr>\n",
       "      <th>master_question</th>\n",
       "      <td>Здравствуйте</td>\n",
       "    </tr>\n",
       "    <tr>\n",
       "      <th>mq_id</th>\n",
       "      <td>1011</td>\n",
       "    </tr>\n",
       "    <tr>\n",
       "      <th>real_mq_id</th>\n",
       "      <td>2002</td>\n",
       "    </tr>\n",
       "    <tr>\n",
       "      <th>distance</th>\n",
       "      <td>0</td>\n",
       "    </tr>\n",
       "  </tbody>\n",
       "</table>\n",
       "</div>"
      ],
      "text/plain": [
       "                             180\n",
       "dialog_id                   9268\n",
       "original_text    доброго вечера)\n",
       "master_question     Здравствуйте\n",
       "mq_id                       1011\n",
       "real_mq_id                  2002\n",
       "distance                       0"
      ]
     },
     "execution_count": 5,
     "metadata": {},
     "output_type": "execute_result"
    }
   ],
   "source": [
    "negatives.head(1).T"
   ]
  },
  {
   "cell_type": "code",
   "execution_count": 6,
   "metadata": {},
   "outputs": [],
   "source": [
    "json_files = os.listdir(input_faq_dir)"
   ]
  },
  {
   "cell_type": "code",
   "execution_count": 8,
   "metadata": {},
   "outputs": [
    {
     "name": "stdout",
     "output_type": "stream",
     "text": [
      "New negtives: 3\n"
     ]
    }
   ],
   "source": [
    "cnt_new_negatives = 0\n",
    "for f in json_files:\n",
    "    fname_in = os.path.join(input_faq_dir, f)\n",
    "    fname_out = os.path.join(output_faq_dir, f)\n",
    "    \n",
    "    with open(fname_in) as f:\n",
    "        faq_json = json.load(f, encoding='utf-8')\n",
    "    \n",
    "    faq_id = faq_json[0]['id']\n",
    "    faq_negatives_new = negatives[negatives['mq_id']==faq_id]['original_text'].values.tolist()\n",
    "    faq_negatives_old = []\n",
    "    if \"samples_negative\" in faq_json[0]:\n",
    "        faq_negatives_old = faq_json[0][\"samples_negative\"]\n",
    "    faq_negatives = np.union1d(faq_negatives_old, faq_negatives_new).tolist()\n",
    "    cnt_new_negatives += len(faq_negatives) - len(faq_negatives_old)\n",
    "    \n",
    "    faq_json[0][\"samples_negative\"] = faq_negatives\n",
    "#     faq_json[0][\"samples_negative\"] = []\n",
    "    with open(fname_out, 'wt', encoding='utf8') as outfile:\n",
    "        json.dump(faq_json, outfile, indent=4, ensure_ascii=False)\n",
    "\n",
    "print('New negtives: {}'.format(cnt_new_negatives))"
   ]
  },
  {
   "cell_type": "code",
   "execution_count": null,
   "metadata": {
    "collapsed": true
   },
   "outputs": [],
   "source": []
  }
 ],
 "metadata": {
  "kernelspec": {
   "display_name": "Python [conda env:sb900_alex]",
   "language": "python",
   "name": "conda-env-sb900_alex-py"
  },
  "language_info": {
   "codemirror_mode": {
    "name": "ipython",
    "version": 3
   },
   "file_extension": ".py",
   "mimetype": "text/x-python",
   "name": "python",
   "nbconvert_exporter": "python",
   "pygments_lexer": "ipython3",
   "version": "3.6.5"
  }
 },
 "nbformat": 4,
 "nbformat_minor": 2
}
