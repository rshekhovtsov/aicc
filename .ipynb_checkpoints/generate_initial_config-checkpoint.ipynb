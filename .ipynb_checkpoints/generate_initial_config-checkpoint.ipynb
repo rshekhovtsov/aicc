{
 "cells": [
  {
   "cell_type": "markdown",
   "metadata": {},
   "source": [
    "Ноутбук для генерации настроечных json файлов для 3-й, 4-й и 5-й версий платформы."
   ]
  },
  {
   "cell_type": "code",
   "execution_count": 2,
   "metadata": {},
   "outputs": [
    {
     "ename": "ModuleNotFoundError",
     "evalue": "No module named 'transliterate'",
     "output_type": "error",
     "traceback": [
      "\u001b[1;31m---------------------------------------------------------------------------\u001b[0m",
      "\u001b[1;31mModuleNotFoundError\u001b[0m                       Traceback (most recent call last)",
      "\u001b[1;32m<ipython-input-2-472c0da7f2f1>\u001b[0m in \u001b[0;36m<module>\u001b[1;34m()\u001b[0m\n\u001b[0;32m      6\u001b[0m \u001b[1;32mimport\u001b[0m \u001b[0mstring\u001b[0m\u001b[1;33m\u001b[0m\u001b[0m\n\u001b[0;32m      7\u001b[0m \u001b[1;32mimport\u001b[0m \u001b[0mre\u001b[0m\u001b[1;33m\u001b[0m\u001b[0m\n\u001b[1;32m----> 8\u001b[1;33m \u001b[1;32mfrom\u001b[0m \u001b[0mtransliterate\u001b[0m \u001b[1;32mimport\u001b[0m \u001b[0mtranslit\u001b[0m\u001b[1;33m,\u001b[0m \u001b[0mget_available_language_codes\u001b[0m\u001b[1;33m\u001b[0m\u001b[0m\n\u001b[0m\u001b[0;32m      9\u001b[0m \u001b[1;33m\u001b[0m\u001b[0m\n\u001b[0;32m     10\u001b[0m \u001b[1;32mfrom\u001b[0m \u001b[0msklearn\u001b[0m\u001b[1;33m.\u001b[0m\u001b[0mmodel_selection\u001b[0m \u001b[1;32mimport\u001b[0m \u001b[0mtrain_test_split\u001b[0m\u001b[1;33m\u001b[0m\u001b[0m\n",
      "\u001b[1;31mModuleNotFoundError\u001b[0m: No module named 'transliterate'"
     ]
    }
   ],
   "source": [
    "import os\n",
    "import pandas as pd\n",
    "import numpy as np\n",
    "import json \n",
    "import math\n",
    "import string\n",
    "import re\n",
    "from transliterate import translit, get_available_language_codes\n",
    "\n",
    "from sklearn.model_selection import train_test_split\n",
    "\n",
    "# pd.options.display.max_columns = -1"
   ]
  },
  {
   "cell_type": "code",
   "execution_count": 3,
   "metadata": {},
   "outputs": [],
   "source": [
    "?re"
   ]
  },
  {
   "cell_type": "code",
   "execution_count": 2,
   "metadata": {},
   "outputs": [],
   "source": [
    "RND_SEED = 315\n",
    "\n",
    "input_dir = 'input'\n",
    "output_dir = 'output'\n",
    "faq_dir = os.path.join(output_dir, 'faq')\n",
    "faq_answers_fname = os.path.join(output_dir, 'faq_answers.json')\n",
    "\n",
    "train_fname = os.path.join(input_dir, 'train_rnd_lift_100.xlsx')"
   ]
  },
  {
   "cell_type": "markdown",
   "metadata": {},
   "source": [
    "Чтение исходных данных"
   ]
  },
  {
   "cell_type": "code",
   "execution_count": 3,
   "metadata": {
    "scrolled": false
   },
   "outputs": [
    {
     "data": {
      "text/html": [
       "<div>\n",
       "<style scoped>\n",
       "    .dataframe tbody tr th:only-of-type {\n",
       "        vertical-align: middle;\n",
       "    }\n",
       "\n",
       "    .dataframe tbody tr th {\n",
       "        vertical-align: top;\n",
       "    }\n",
       "\n",
       "    .dataframe thead th {\n",
       "        text-align: right;\n",
       "    }\n",
       "</style>\n",
       "<table border=\"1\" class=\"dataframe\">\n",
       "  <thead>\n",
       "    <tr style=\"text-align: right;\">\n",
       "      <th></th>\n",
       "      <th>mq_id</th>\n",
       "      <th>master_question</th>\n",
       "      <th>phrase</th>\n",
       "      <th>source</th>\n",
       "    </tr>\n",
       "  </thead>\n",
       "  <tbody>\n",
       "    <tr>\n",
       "      <th>5348</th>\n",
       "      <td>9999</td>\n",
       "      <td>Прочее</td>\n",
       "      <td>добрый день! я могу узнать когда поменялся бик...</td>\n",
       "      <td>rnd</td>\n",
       "    </tr>\n",
       "    <tr>\n",
       "      <th>20246</th>\n",
       "      <td>9999</td>\n",
       "      <td>Прочее</td>\n",
       "      <td>в банкомата сегодня снимала деньги там высвети...</td>\n",
       "      <td>rnd</td>\n",
       "    </tr>\n",
       "    <tr>\n",
       "      <th>915</th>\n",
       "      <td>1011</td>\n",
       "      <td>Здравствуйте</td>\n",
       "      <td>добрый день!</td>\n",
       "      <td>rnd</td>\n",
       "    </tr>\n",
       "    <tr>\n",
       "      <th>8515</th>\n",
       "      <td>1011</td>\n",
       "      <td>Здравствуйте</td>\n",
       "      <td>здравствуйте, виктория!</td>\n",
       "      <td>rnd</td>\n",
       "    </tr>\n",
       "    <tr>\n",
       "      <th>1046</th>\n",
       "      <td>1011</td>\n",
       "      <td>Здравствуйте</td>\n",
       "      <td>добрый день!</td>\n",
       "      <td>rnd</td>\n",
       "    </tr>\n",
       "  </tbody>\n",
       "</table>\n",
       "</div>"
      ],
      "text/plain": [
       "       mq_id master_question  \\\n",
       "5348    9999          Прочее   \n",
       "20246   9999          Прочее   \n",
       "915     1011    Здравствуйте   \n",
       "8515    1011    Здравствуйте   \n",
       "1046    1011    Здравствуйте   \n",
       "\n",
       "                                                  phrase source  \n",
       "5348   добрый день! я могу узнать когда поменялся бик...    rnd  \n",
       "20246  в банкомата сегодня снимала деньги там высвети...    rnd  \n",
       "915                                         добрый день!    rnd  \n",
       "8515                             здравствуйте, виктория!    rnd  \n",
       "1046                                        добрый день!    rnd  "
      ]
     },
     "execution_count": 3,
     "metadata": {},
     "output_type": "execute_result"
    }
   ],
   "source": [
    "train = pd.read_excel(train_fname)\n",
    "train.head()"
   ]
  },
  {
   "cell_type": "code",
   "execution_count": 4,
   "metadata": {},
   "outputs": [],
   "source": [
    "# preprocessing\n",
    "pattern = re.compile('[\\W_]+') \n",
    "def remove_punctuations(text):\n",
    "    for punctuation in string.punctuation:\n",
    "#         text = text.replace(punctuation, ' ')\n",
    "        text = pattern.sub(' ', text)\n",
    "\n",
    "    return text\n",
    "\n",
    "def normalize(text):\n",
    "    text = text.lower()\n",
    "    text = remove_punctuations(text)\n",
    "    text = text.replace(\"ё\", \"е\")\n",
    "    text = text.strip()\n",
    "    \n",
    "    return text"
   ]
  },
  {
   "cell_type": "code",
   "execution_count": 5,
   "metadata": {},
   "outputs": [],
   "source": [
    "train = train.assign(phrase_norm=train['phrase'].apply(lambda t: normalize(t)))"
   ]
  },
  {
   "cell_type": "code",
   "execution_count": 6,
   "metadata": {
    "collapsed": true
   },
   "outputs": [],
   "source": [
    "train.drop_duplicates('phrase_norm', inplace=True)"
   ]
  },
  {
   "cell_type": "markdown",
   "metadata": {},
   "source": [
    "## Train validation split"
   ]
  },
  {
   "cell_type": "code",
   "execution_count": 7,
   "metadata": {
    "collapsed": true
   },
   "outputs": [],
   "source": [
    "# train_jsons, train_valid = train_test_split(train, stratify=train['mq_id'].values, test_size=0.5, random_state=RND_SEED)"
   ]
  },
  {
   "cell_type": "code",
   "execution_count": 8,
   "metadata": {},
   "outputs": [],
   "source": [
    "train_jsons = train.copy()"
   ]
  },
  {
   "cell_type": "markdown",
   "metadata": {},
   "source": [
    "## Generatig jsons"
   ]
  },
  {
   "cell_type": "code",
   "execution_count": 9,
   "metadata": {},
   "outputs": [],
   "source": [
    "mq_id_list = train['mq_id'].unique()\n",
    "mq_id_other_list = []"
   ]
  },
  {
   "cell_type": "code",
   "execution_count": 10,
   "metadata": {},
   "outputs": [],
   "source": [
    "#Ветка release 004 & 005\n",
    "def generate_jsons(phrases_df, \n",
    "                   mq_id_colname, \n",
    "                   mq_colname,\n",
    "                   phrase_colname, \n",
    "                   mq_id_list, \n",
    "                   mq_id_other_list,\n",
    "                   answers_fname, \n",
    "                   faq_dir):\n",
    "    \n",
    "    CHANNELS_LIST = [\n",
    "          \"SBERBANK_MARKETS\",\n",
    "          \"SBERBANK_MESSENGER\",\n",
    "          \"TELEGRAM\"\n",
    "        ]\n",
    "    \n",
    "    res = []\n",
    "    faq_answers = {'action': {\"command\": \"answer_to_user\"}, }\n",
    "\n",
    "    for mq_id in list(mq_id_list):\n",
    "        local_obj = {}\n",
    "        df_mq_id = phrases_df[phrases_df[mq_id_colname] == mq_id]\n",
    "        samples_positive = df_mq_id[phrase_colname].unique()\n",
    "        mq = str(df_mq_id[mq_colname].iloc[0])\n",
    "        \n",
    "        if len(samples_positive) > 0:\n",
    "            if mq_id in mq_id_other_list:\n",
    "                local_obj['other'] = True\n",
    "\n",
    "            local_obj['channels'] = CHANNELS_LIST\n",
    "            local_obj['samples_positive'] = list(samples_positive)\n",
    "\n",
    "            local_obj['tags'] = []\n",
    "            local_obj['id'] = int(mq_id)\n",
    "            local_obj['version'] = 1\n",
    "            name = translit(mq.replace('/', '_').replace(' ', '_'), 'ru', reversed=True)\n",
    "            local_obj['name'] = name\n",
    "\n",
    "    #         if settings_scales[settings_scales['mq_id'] == mq_id].shape[0] > 0:\n",
    "    #             if settings_scales.loc[mq_id]['scale'] != 1:\n",
    "    #                 local_obj['distance_scale_factor'] = settings_scales.loc[mq_id]['scale']\n",
    "\n",
    "            file_name = name + '.json'    \n",
    "\n",
    "            with open(os.path.join(faq_dir, file_name), 'wt', encoding='utf8') as outfile:\n",
    "                json.dump([local_obj], outfile, indent=4, ensure_ascii=False)\n",
    "            \n",
    "            answer_str = 'answer {}'.format(mq_id)\n",
    "            faq_answers[str(local_obj['id'])] = \\\n",
    "                {\"action\": {\"command\": \"answer_to_user\",\\\n",
    "                            \"nodes\": { \"answer\": [answer_str]}},\\\n",
    "                \"master_question_action\": {\"type\": \"do_nothing\",\\\n",
    "                                           \"command\": \"answer_to_user\",\\\n",
    "                                           \"nodes\": {\"answer\": mq}}}\n",
    "\n",
    "\n",
    "\n",
    "    with open(answers_fname, 'wt', encoding='utf8') as outfile:\n",
    "        json.dump(faq_answers, outfile, indent=4, ensure_ascii=False)"
   ]
  },
  {
   "cell_type": "code",
   "execution_count": 11,
   "metadata": {},
   "outputs": [],
   "source": [
    "generate_jsons(phrases_df=train_jsons, \n",
    "                   mq_id_colname='mq_id', \n",
    "                   mq_colname='master_question',\n",
    "                   phrase_colname='phrase', \n",
    "                   mq_id_list=mq_id_list, \n",
    "                   mq_id_other_list=mq_id_other_list,\n",
    "                   answers_fname=faq_answers_fname, \n",
    "                   faq_dir=faq_dir)"
   ]
  },
  {
   "cell_type": "code",
   "execution_count": null,
   "metadata": {
    "collapsed": true
   },
   "outputs": [],
   "source": []
  }
 ],
 "metadata": {
  "kernelspec": {
   "display_name": "Python 3",
   "language": "python",
   "name": "python3"
  },
  "language_info": {
   "codemirror_mode": {
    "name": "ipython",
    "version": 3
   },
   "file_extension": ".py",
   "mimetype": "text/x-python",
   "name": "python",
   "nbconvert_exporter": "python",
   "pygments_lexer": "ipython3",
   "version": "3.6.5"
  }
 },
 "nbformat": 4,
 "nbformat_minor": 2
}
